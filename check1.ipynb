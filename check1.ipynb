{
  "cells": [
    {
      "cell_type": "markdown",
      "metadata": {
        "id": "view-in-github",
        "colab_type": "text"
      },
      "source": [
        "<a href=\"https://colab.research.google.com/github/PokrovskiyK/1/blob/main/check1.ipynb\" target=\"_parent\"><img src=\"https://colab.research.google.com/assets/colab-badge.svg\" alt=\"Open In Colab\"/></a>"
      ]
    },
    {
      "cell_type": "code",
      "source": [
        "from bs4 import BeautifulSoup\n",
        "import requests\n",
        "\n",
        "HEADERS = {\n",
        "    'user-agent': 'Mozilla/5.0 (Macintosh; Intel Mac OS X 10_15_7) AppleWebKit/537.36 (KHTML, like Gecko) Chrome/93.0.4577.82 Safari/537.36',\n",
        "    'accept': '*/*'}\n",
        "params = \"\"\n",
        "\n",
        "src_balance = requests.get(f'https://bitinfocharts.com/ru/bitcoin/address/34Xbry7sMjsCwsQeKgVvpSF5dgHeFHQt8E',  headers=HEADERS, params = params, stream=True)\n",
        "soup_balance = BeautifulSoup (src_balance.content, 'html.parser')\n",
        "table = soup_balance.find('table', class_='table table-striped table-condensed')\n",
        "tbody = table.find('tbody')\n",
        "#tr = tbody.find('tr')\n",
        "#td = tbody.find('td')\n",
        "#div = td.find('div')\n",
        "b = table.find('b')\n",
        "print(b.text.replace(' BTC', ''))"
      ],
      "metadata": {
        "id": "S9TJ28CSRD4y",
        "outputId": "1a63d071-000c-4ffd-968f-8afc5a37f188",
        "colab": {
          "base_uri": "https://localhost:8080/"
        }
      },
      "execution_count": 13,
      "outputs": [
        {
          "output_type": "stream",
          "name": "stdout",
          "text": [
            "171.2633442\n"
          ]
        }
      ]
    }
  ],
  "metadata": {
    "colab": {
      "collapsed_sections": [],
      "name": "CHECK-1",
      "toc_visible": true,
      "provenance": [],
      "include_colab_link": true
    },
    "kernelspec": {
      "display_name": "Python 3",
      "name": "python3"
    }
  },
  "nbformat": 4,
  "nbformat_minor": 0
}