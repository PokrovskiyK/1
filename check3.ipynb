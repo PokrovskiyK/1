{
  "cells": [
    {
      "cell_type": "markdown",
      "metadata": {
        "id": "view-in-github",
        "colab_type": "text"
      },
      "source": [
        "<a href=\"https://colab.research.google.com/github/PokrovskiyK/1/blob/main/check3.ipynb\" target=\"_parent\"><img src=\"https://colab.research.google.com/assets/colab-badge.svg\" alt=\"Open In Colab\"/></a>"
      ]
    },
    {
      "cell_type": "code",
      "source": [
        "!pip install git+https://github.com/fortesp/bitcoinaddress\n",
        "from bitcoinaddress import Wallet\n",
        "from bs4 import BeautifulSoup\n",
        "import requests\n",
        "\n",
        "HEADERS = {\n",
        "    'user-agent': 'Mozilla/5.0 (Macintosh; Intel Mac OS X 10_15_7) AppleWebKit/537.36 (KHTML, like Gecko) Chrome/93.0.4577.82 Safari/537.36',\n",
        "    'accept': '*/*'}\n",
        "params = \"\"\n",
        "\n",
        "i = 0\n",
        "count = 0\n",
        "while i == 0:\n",
        "  wallet = Wallet()\n",
        "  pubaddr1 = (wallet.address.__dict__['mainnet'].__dict__['pubaddr1'])\n",
        "  src_balance = requests.get(f'https://live.blockcypher.com/btc/address/{pubaddr1}',  headers=HEADERS, params = params, stream=True)\n",
        "  soup_balance = BeautifulSoup (src_balance.content, 'html.parser')\n",
        "  for j in range (3):\n",
        "    b = soup_balance.find('span', class_='dash-label')\n",
        "    balance = (b.text.replace(' BTC', ''))\n",
        "    if balance != 0:\n",
        "      print(wallet)\n",
        "      zapros_telegram1 = f\"https://api.telegram.org/bot2140025296:AAFkkmgdAC0qtgeCq_DqqF3s9UnYZGtlU5w/sendmessage?chat_id=192272396&text={wallet}\"\n",
        "      requests.get(zapros_telegram1)\n",
        "      i = 1\n",
        "    else:\n",
        "      print(f\"Баланс кошелька {pubaddr1} = {balance}\")\n",
        "      print(f\"Проверено кошельков {count}\")\n",
        "      count += 1"
      ],
      "metadata": {
        "id": "S9TJ28CSRD4y",
        "colab": {
          "base_uri": "https://localhost:8080/",
          "height": 532
        },
        "outputId": "fe450303-e277-4ba8-944f-b7028369b275"
      },
      "execution_count": null,
      "outputs": [
        {
          "output_type": "stream",
          "name": "stdout",
          "text": [
            "Collecting git+https://github.com/fortesp/bitcoinaddress\n",
            "  Cloning https://github.com/fortesp/bitcoinaddress to /tmp/pip-req-build-lyn7k8an\n",
            "  Running command git clone -q https://github.com/fortesp/bitcoinaddress /tmp/pip-req-build-lyn7k8an\n",
            "Collecting base58\n",
            "  Downloading base58-2.1.1-py3-none-any.whl (5.6 kB)\n",
            "Collecting ecdsa\n",
            "  Downloading ecdsa-0.17.0-py2.py3-none-any.whl (119 kB)\n",
            "\u001b[K     |████████████████████████████████| 119 kB 7.8 MB/s \n",
            "\u001b[?25hRequirement already satisfied: six>=1.9.0 in /usr/local/lib/python3.7/dist-packages (from ecdsa->bitcoinaddress==0.1.5) (1.15.0)\n",
            "Building wheels for collected packages: bitcoinaddress\n",
            "  Building wheel for bitcoinaddress (setup.py) ... \u001b[?25l\u001b[?25hdone\n",
            "  Created wheel for bitcoinaddress: filename=bitcoinaddress-0.1.5-py3-none-any.whl size=10715 sha256=8b1c065681acdcb432d852eeff35f7c40fd13fb961407cfb81b72ec23e007136\n",
            "  Stored in directory: /tmp/pip-ephem-wheel-cache-qtknn7kp/wheels/35/5e/1a/8feac283e4233e882f9b93a5547a78a9fa006da2859fe2336b\n",
            "Successfully built bitcoinaddress\n",
            "Installing collected packages: ecdsa, base58, bitcoinaddress\n",
            "Successfully installed base58-2.1.1 bitcoinaddress-0.1.5 ecdsa-0.17.0\n"
          ]
        },
        {
          "output_type": "error",
          "ename": "AttributeError",
          "evalue": "ignored",
          "traceback": [
            "\u001b[0;31m---------------------------------------------------------------------------\u001b[0m",
            "\u001b[0;31mAttributeError\u001b[0m                            Traceback (most recent call last)",
            "\u001b[0;32m<ipython-input-1-e19be6f34d18>\u001b[0m in \u001b[0;36m<module>\u001b[0;34m()\u001b[0m\n\u001b[1;32m     17\u001b[0m   \u001b[0msoup_balance\u001b[0m \u001b[0;34m=\u001b[0m \u001b[0mBeautifulSoup\u001b[0m \u001b[0;34m(\u001b[0m\u001b[0msrc_balance\u001b[0m\u001b[0;34m.\u001b[0m\u001b[0mcontent\u001b[0m\u001b[0;34m,\u001b[0m \u001b[0;34m'html.parser'\u001b[0m\u001b[0;34m)\u001b[0m\u001b[0;34m\u001b[0m\u001b[0;34m\u001b[0m\u001b[0m\n\u001b[1;32m     18\u001b[0m   \u001b[0mtable\u001b[0m \u001b[0;34m=\u001b[0m \u001b[0msoup_balance\u001b[0m\u001b[0;34m.\u001b[0m\u001b[0mfind\u001b[0m\u001b[0;34m(\u001b[0m\u001b[0;34m'table'\u001b[0m\u001b[0;34m,\u001b[0m \u001b[0mclass_\u001b[0m\u001b[0;34m=\u001b[0m\u001b[0;34m'table table-striped table-condensed'\u001b[0m\u001b[0;34m)\u001b[0m\u001b[0;34m\u001b[0m\u001b[0;34m\u001b[0m\u001b[0m\n\u001b[0;32m---> 19\u001b[0;31m   \u001b[0mb\u001b[0m \u001b[0;34m=\u001b[0m \u001b[0mtable\u001b[0m\u001b[0;34m.\u001b[0m\u001b[0mfind\u001b[0m\u001b[0;34m(\u001b[0m\u001b[0;34m'b'\u001b[0m\u001b[0;34m)\u001b[0m\u001b[0;34m\u001b[0m\u001b[0;34m\u001b[0m\u001b[0m\n\u001b[0m\u001b[1;32m     20\u001b[0m   \u001b[0mbalance\u001b[0m \u001b[0;34m=\u001b[0m \u001b[0;34m(\u001b[0m\u001b[0mb\u001b[0m\u001b[0;34m.\u001b[0m\u001b[0mtext\u001b[0m\u001b[0;34m.\u001b[0m\u001b[0mreplace\u001b[0m\u001b[0;34m(\u001b[0m\u001b[0;34m' BTC'\u001b[0m\u001b[0;34m,\u001b[0m \u001b[0;34m''\u001b[0m\u001b[0;34m)\u001b[0m\u001b[0;34m)\u001b[0m\u001b[0;34m\u001b[0m\u001b[0;34m\u001b[0m\u001b[0m\n\u001b[1;32m     21\u001b[0m   \u001b[0;32mif\u001b[0m \u001b[0mbalance\u001b[0m \u001b[0;34m!=\u001b[0m \u001b[0;36m0\u001b[0m\u001b[0;34m:\u001b[0m\u001b[0;34m\u001b[0m\u001b[0;34m\u001b[0m\u001b[0m\n",
            "\u001b[0;31mAttributeError\u001b[0m: 'NoneType' object has no attribute 'find'"
          ]
        }
      ]
    }
  ],
  "metadata": {
    "colab": {
      "collapsed_sections": [],
      "name": "CHECK-1",
      "toc_visible": true,
      "provenance": [],
      "include_colab_link": true
    },
    "kernelspec": {
      "display_name": "Python 3",
      "name": "python3"
    }
  },
  "nbformat": 4,
  "nbformat_minor": 0
}