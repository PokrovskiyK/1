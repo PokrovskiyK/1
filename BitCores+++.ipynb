{
  "nbformat": 4,
  "nbformat_minor": 0,
  "metadata": {
    "colab": {
      "name": "SelfEduTraining",
      "provenance": [],
      "collapsed_sections": [],
      "toc_visible": true,
      "include_colab_link": true
    },
    "kernelspec": {
      "name": "python3",
      "display_name": "Python 3"
    },
    "language_info": {
      "name": "python"
    }
  },
  "cells": [
    {
      "cell_type": "markdown",
      "metadata": {
        "id": "view-in-github",
        "colab_type": "text"
      },
      "source": [
        "<a href=\"https://colab.research.google.com/github/PokrovskiyK/1/blob/main/BitCores%2B%2B%2B.ipynb\" target=\"_parent\"><img src=\"https://colab.research.google.com/assets/colab-badge.svg\" alt=\"Open In Colab\"/></a>"
      ]
    },
    {
      "cell_type": "code",
      "source": [
        "!pip install git+https://github.com/fortesp/bitcoinaddress\n",
        "from bitcoinaddress import Wallet\n",
        "from bs4 import BeautifulSoup\n",
        "import requests\n",
        "\n",
        "HEADERS = {\n",
        "    'user-agent': 'Mozilla/5.0 (Macintosh; Intel Mac OS X 10_15_7) AppleWebKit/537.36 (KHTML, like Gecko) Chrome/93.0.4577.82 Safari/537.36',\n",
        "    'accept': '*/*'}\n",
        "params = \"\"\n",
        "\n",
        "list = []\n",
        "a = 0\n",
        "count = 0\n",
        "\n",
        "for i in range(101):\n",
        "    src_balance = requests.get(f'https://bitinfocharts.com/ru/top-100-richest-bitcoin-addresses{-i}.html',  headers=HEADERS, params = params, stream=True) #запрос контента\n",
        "\n",
        "    soup_balance = BeautifulSoup (src_balance.content, 'html.parser')\n",
        "    for tags in soup_balance.find_all('td'):\n",
        "        for tag in tags.find_all('a'):\n",
        "          list.append((tag.text.replace(\"..\",\"\")))\n",
        "while a == 0:\n",
        "    wallet = Wallet()\n",
        "    pubaddr1 = (wallet.address.__dict__['mainnet'].__dict__['pubaddr1'])\n",
        "    pubaddr1c = (wallet.address.__dict__['mainnet'].__dict__['pubaddr1c'])\n",
        "    pubaddr3 = (wallet.address.__dict__['mainnet'].__dict__['pubaddr3'])\n",
        "    pubaddrbc1P2WPKH = (wallet.address.__dict__['mainnet'].__dict__['pubaddrbc1_P2WPKH'])\n",
        "    pubaddrbc1P2WSH = (wallet.address.__dict__['mainnet'].__dict__['pubaddrbc1_P2WSH'])\n",
        "\n",
        "    if pubaddr1 in list:\n",
        "      a = 1\n",
        "\n",
        "    elif pubaddr1c in list:\n",
        "      a = 1\n",
        "\n",
        "    elif pubaddr3 in list:\n",
        "      a = 1\n",
        "\n",
        "    elif pubaddrbc1P2WPKH in list:\n",
        "      a = 1\n",
        "\n",
        "    elif pubaddrbc1P2WSH in list:\n",
        "      a = 1\n",
        "\n",
        "    else:\n",
        "      count +=1\n",
        "      print(wallet)\n",
        "      print(f\"Просканировано {count} кошельков\")\n",
        "\n",
        "print(wallet)\n",
        "zapros_telegram1 = f\"https://api.telegram.org/bot2140025296:AAFkkmgdAC0qtgeCq_DqqF3s9UnYZGtlU5w/sendmessage?chat_id=192272396&text={wallet}\"\n",
        "requests.get(zapros_telegram1)\n",
        "\n",
        "\n",
        "\n"
      ],
      "metadata": {
        "colab": {
          "base_uri": "https://localhost:8080/"
        },
        "id": "GLgMoXsSAZLt",
        "outputId": "9a507e4f-dc66-4edf-a333-6e5467fd76a2"
      },
      "execution_count": null,
      "outputs": [
        {
          "output_type": "stream",
          "name": "stdout",
          "text": [
            "Collecting git+https://github.com/fortesp/bitcoinaddress\n",
            "  Cloning https://github.com/fortesp/bitcoinaddress to /tmp/pip-req-build-l9my_1cj\n",
            "  Running command git clone -q https://github.com/fortesp/bitcoinaddress /tmp/pip-req-build-l9my_1cj\n",
            "Requirement already satisfied: base58 in /usr/local/lib/python3.7/dist-packages (from bitcoinaddress==0.1.5) (2.1.1)\n",
            "Requirement already satisfied: ecdsa in /usr/local/lib/python3.7/dist-packages (from bitcoinaddress==0.1.5) (0.17.0)\n",
            "Requirement already satisfied: six>=1.9.0 in /usr/local/lib/python3.7/dist-packages (from ecdsa->bitcoinaddress==0.1.5) (1.15.0)\n"
          ]
        }
      ]
    }
  ]
}